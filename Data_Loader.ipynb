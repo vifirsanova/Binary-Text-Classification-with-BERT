{
  "nbformat": 4,
  "nbformat_minor": 0,
  "metadata": {
    "colab": {
      "name": "Data Loader",
      "provenance": [],
      "collapsed_sections": [],
      "authorship_tag": "ABX9TyOlE07GmnC4klq+EdizgETV"
    },
    "kernelspec": {
      "display_name": "Python 3",
      "name": "python3"
    }
  },
  "cells": [
    {
      "cell_type": "markdown",
      "metadata": {
        "id": "aH7y6G7_y8M1"
      },
      "source": [
        "VK API is used to load the data\n",
        "\n",
        "URL: https://vk.com/dev/methods"
      ]
    },
    {
      "cell_type": "code",
      "metadata": {
        "id": "wYERbBXTBdnM"
      },
      "source": [
        "%pip install vk_api\n",
        "import json\n",
        "import vk_api\n",
        "def main():\n",
        "\n",
        "  # authorisation \n",
        "\n",
        "  vk_session = vk_api.VkApi('login', 'password')\n",
        "  vk_session.auth()\n",
        "\n",
        "  # initializing VK tools\n",
        "\n",
        "  tools = vk_api.VkTools(vk_session)\n",
        "\n",
        "  # initializing wall.get method \n",
        "  # wall.getComments or other methods can also be here\n",
        "\n",
        "  wall = tools.get_all('wall.get', 100, {'domain': '---'})\n",
        "\n",
        "  # saving the JSON object with the data\n",
        "\n",
        "  with open('output.json', 'w') as fw:json.dump(wall, fw, ensure_ascii=False)\n",
        "\n",
        "  return wall\n",
        "\n",
        "if __name__ == '__main__':\n",
        "    main()"
      ],
      "execution_count": null,
      "outputs": []
    }
  ]
}
