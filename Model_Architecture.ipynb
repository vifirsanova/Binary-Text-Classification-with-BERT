{
  "nbformat": 4,
  "nbformat_minor": 0,
  "metadata": {
    "colab": {
      "name": "Model_Architecture",
      "provenance": []
    },
    "kernelspec": {
      "name": "python3",
      "display_name": "Python 3"
    },
    "accelerator": "GPU"
  },
  "cells": [
    {
      "cell_type": "markdown",
      "metadata": {
        "id": "s7ahGBUWRi3X"
      },
      "source": [
        "# Model Architecture"
      ]
    },
    {
      "cell_type": "code",
      "metadata": {
        "id": "b3iEtGyYRd0A"
      },
      "source": [
        "class Model(nn.Module):\n",
        "\n",
        "    def __init__(self, model):\n",
        "      super(Model, self).__init__()\n",
        "      self.model = model \n",
        "      self.dropout = nn.Dropout(0.1)      \n",
        "      self.relu =  nn.ReLU()\n",
        "      self.fc1 = nn.Linear(768,512)      \n",
        "      self.fc2 = nn.Linear(512,2)\n",
        "      self.softmax = nn.LogSoftmax(dim=1)\n",
        "\n",
        "    def forward(self, sent_id, mask):\n",
        "      _, cls_hs = self.bert(sent_id, attention_mask=mask)\n",
        "      x = self.fc1(cls_hs)\n",
        "      x = self.relu(x)\n",
        "      x = self.dropout(x)\n",
        "      x = self.fc2(x)\n",
        "      x = self.softmax(x)\n",
        "\n",
        "      return x"
      ],
      "execution_count": null,
      "outputs": []
    },
    {
      "cell_type": "markdown",
      "metadata": {
        "id": "MNP94l-_Chb7"
      },
      "source": [
        "Initilize the model, send the model to GPU"
      ]
    },
    {
      "cell_type": "code",
      "metadata": {
        "id": "r8GIksyxCaoY"
      },
      "source": [
        "device = torch.device(\"cuda\")\r\n",
        "model = Model(model)\r\n",
        "model = model.to(device)"
      ],
      "execution_count": null,
      "outputs": []
    },
    {
      "cell_type": "markdown",
      "metadata": {
        "id": "nnvoKs6BFYtj"
      },
      "source": [
        "Initialize the optimizer"
      ]
    },
    {
      "cell_type": "code",
      "metadata": {
        "id": "AR5WqCsrFYGH"
      },
      "source": [
        "from transformers import AdamW\r\n",
        "# learning rate is 2e-5\r\n",
        "optimizer = AdamW(model.parameters(), lr = 2e-5)"
      ],
      "execution_count": null,
      "outputs": []
    },
    {
      "cell_type": "markdown",
      "metadata": {
        "id": "4p7M8KoJHUrp"
      },
      "source": [
        "Initilize class weights"
      ]
    },
    {
      "cell_type": "code",
      "metadata": {
        "id": "6RaQAFM3HCFI"
      },
      "source": [
        "from sklearn.utils.class_weight import compute_class_weight\r\n",
        "\r\n",
        "# check if the classes are balances\r\n",
        "class_wts = compute_class_weight('balanced', np.unique(train_labels), train_labels)\r\n",
        "# and add class weights to model\r\n",
        "weights= torch.tensor(class_wts,dtype=torch.float)\r\n",
        "weights = weights.to(device)"
      ],
      "execution_count": null,
      "outputs": []
    },
    {
      "cell_type": "markdown",
      "metadata": {
        "id": "aO6Rlh43F2N2"
      },
      "source": [
        "Define cross entropy function and the number of training epochs"
      ]
    },
    {
      "cell_type": "code",
      "metadata": {
        "id": "fhllb3IsGxCN"
      },
      "source": [
        "# loss function\r\n",
        "cross_entropy  = nn.NLLLoss(weight=weights) \r\n",
        "\r\n",
        "# 100 training epochs\r\n",
        "epochs = 100"
      ],
      "execution_count": null,
      "outputs": []
    }
  ]
}