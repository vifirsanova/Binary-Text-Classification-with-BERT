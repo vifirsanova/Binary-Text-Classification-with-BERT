{
  "nbformat": 4,
  "nbformat_minor": 0,
  "metadata": {
    "colab": {
      "name": "Dataset_Processing.ipynb\"",
      "provenance": [],
      "authorship_tag": "ABX9TyMH0cJfgy9f8NeKZtrOyjc9"
    },
    "kernelspec": {
      "display_name": "Python 3",
      "name": "python3"
    }
  },
  "cells": [
    {
      "cell_type": "markdown",
      "metadata": {
        "id": "2CtUcP9NOO_b"
      },
      "source": [
        "Creating the dataset"
      ]
    },
    {
      "cell_type": "code",
      "metadata": {
        "id": "DN4Na2LgQXLd"
      },
      "source": [
        "from pathlib import Path\n",
        "import pandas as pd\n",
        "\n",
        "# loading the extracted data\n",
        "\n",
        "path = Path('output.json')\n",
        "data = json.loads(path.read_text(encoding='utf-8'))\n",
        "\n",
        "# texts extraction\n",
        "\n",
        "items = [data['items'][x]['text'] for x in range(len(data['items']))]\n",
        "\n",
        "# creating the dataset\n",
        "\n",
        "df = pd.DataFrame({'label': [x for x in items]})\n",
        "\n",
        "# saving the dataset\n",
        "\n",
        "df.to_csv('data.csv',encoding='utf-8-sig')"
      ],
      "execution_count": null,
      "outputs": []
    },
    {
      "cell_type": "markdown",
      "metadata": {
        "id": "Pz1N_tvpOXDT"
      },
      "source": [
        "Splitting the data"
      ]
    },
    {
      "cell_type": "code",
      "metadata": {
        "id": "24DfO9doOWi_"
      },
      "source": [
        "from sklearn.model_selection import train_test_split\n",
        "\n",
        "train_text, testxval_text, train_labels, testxval_labels = train_test_split(df['text'], df['label'], \n",
        "                                                                    random_state=69, \n",
        "                                                                    test_size=0.3, \n",
        "                                                                    stratify=df['label'])\n",
        "\n",
        "val_text, test_text, val_labels, test_labels = train_test_split(temp_text, testxval_labels, \n",
        "                                                                random_state=69, \n",
        "                                                                test_size=0.5, \n",
        "                                                                stratify=testxval_labels)"
      ],
      "execution_count": null,
      "outputs": []
    }
  ]
}