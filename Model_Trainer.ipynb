{
  "nbformat": 4,
  "nbformat_minor": 0,
  "metadata": {
    "colab": {
      "name": "Model_Trainer",
      "provenance": []
    },
    "kernelspec": {
      "name": "python3",
      "display_name": "Python 3"
    },
    "accelerator": "GPU"
  },
  "cells": [
    {
      "cell_type": "markdown",
      "metadata": {
        "id": "s7ahGBUWRi3X"
      },
      "source": [
        "# Model Architecture"
      ]
    },
    {
      "cell_type": "code",
      "metadata": {
        "id": "b3iEtGyYRd0A"
      },
      "source": [
        "class Model(nn.Module):\n",
        "\n",
        "    def __init__(self, model):\n",
        "      super(Model, self).__init__()\n",
        "      self.model = model \n",
        "      self.dropout = nn.Dropout(0.1)      \n",
        "      self.relu =  nn.ReLU()\n",
        "      self.fc1 = nn.Linear(768,512)      \n",
        "      self.fc2 = nn.Linear(512,2)\n",
        "      self.softmax = nn.LogSoftmax(dim=1)\n",
        "\n",
        "    def forward(self, sent_id, mask):\n",
        "      _, cls_hs = self.bert(sent_id, attention_mask=mask)\n",
        "      x = self.fc1(cls_hs)\n",
        "      x = self.relu(x)\n",
        "      x = self.dropout(x)\n",
        "      x = self.fc2(x)\n",
        "      x = self.softmax(x)\n",
        "\n",
        "      return x"
      ],
      "execution_count": null,
      "outputs": []
    },
    {
      "cell_type": "markdown",
      "metadata": {
        "id": "MNP94l-_Chb7"
      },
      "source": [
        "Initilize the model, send the model to GPU"
      ]
    },
    {
      "cell_type": "code",
      "metadata": {
        "id": "r8GIksyxCaoY"
      },
      "source": [
        "device = torch.device(\"cuda\")\r\n",
        "model = Model(model)\r\n",
        "model = model.to(device)"
      ],
      "execution_count": null,
      "outputs": []
    }
  ]
}