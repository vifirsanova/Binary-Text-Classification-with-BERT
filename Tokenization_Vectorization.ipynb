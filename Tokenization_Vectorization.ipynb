{
  "nbformat": 4,
  "nbformat_minor": 0,
  "metadata": {
    "colab": {
      "name": "Tokenization_Vectorization",
      "provenance": [],
      "toc_visible": true
    },
    "kernelspec": {
      "name": "python3",
      "display_name": "Python 3"
    },
    "accelerator": "GPU"
  },
  "cells": [
    {
      "cell_type": "markdown",
      "metadata": {
        "id": "n7hsdLoCO7uB"
      },
      "source": [
        "# Transforming token sequences into integer sequences with HuggingFace Fast BERT Tokenizer\r\n",
        "\r\n",
        "BERT base multilingual cased pre-trained model is chosen"
      ]
    },
    {
      "cell_type": "code",
      "metadata": {
        "id": "S1kY3gZjO2RE"
      },
      "source": [
        "from transformers import BertTokenizerFast\n",
        "\n",
        "tokenizer = BertTokenizerFast.from_pretrained('bert-base-multilingual-cased')"
      ],
      "execution_count": null,
      "outputs": []
    },
    {
      "cell_type": "markdown",
      "metadata": {
        "id": "eJFKCQ4m_Sx6"
      },
      "source": [
        "Tokenizing each set (train, validation and test)"
      ]
    },
    {
      "cell_type": "code",
      "metadata": {
        "id": "tk5S7DWaP2t6"
      },
      "source": [
        "set_tokenized = tokenizer.batch_encode_plus(\n",
        "    train_text.tolist(),\n",
        "    max_length = 100,\n",
        "    pad_to_max_length=True,\n",
        "    truncation=True,\n",
        "    return_token_type_ids=False\n",
        ")"
      ],
      "execution_count": null,
      "outputs": []
    },
    {
      "cell_type": "markdown",
      "metadata": {
        "id": "Wsm8bkRZQTw9"
      },
      "source": [
        "# Transforming integer sequences to tensors with PyTorch\r\n",
        "\r\n",
        "Converting interger sequences representing tokens (input ID's), their masks (attention masks) and labels (Y's) for each set (train, validation and test)"
      ]
    },
    {
      "cell_type": "code",
      "metadata": {
        "id": "QR-lXwmzQPd6"
      },
      "source": [
        "import torch\n",
        "\n",
        "set_seq = torch.tensor(set_tokenized['input_ids'])\n",
        "set_mask = torch.tensor(set_tokenized['attention_mask'])\n",
        "set_y = torch.tensor(set_labels.tolist())"
      ],
      "execution_count": null,
      "outputs": []
    }
  ]
}